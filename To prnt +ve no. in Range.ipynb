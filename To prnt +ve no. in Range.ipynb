{
 "cells": [
  {
   "cell_type": "code",
   "execution_count": 19,
   "metadata": {},
   "outputs": [
    {
     "name": "stdout",
     "output_type": "stream",
     "text": [
      " Enter number of Elements : 5\n",
      "12\n",
      "-7\n",
      "5\n",
      "64\n",
      "-14\n",
      " Input List  [12, -7, 5, 64, -14]\n",
      " Output List  [12, 5, 64]\n"
     ]
    }
   ],
   "source": [
    "list1 = []\n",
    "n = int(input(\" Enter number of Elements : \"))\n",
    "\n",
    "for i in range (0,n) :\n",
    "    ele = int(input())\n",
    "    list1.append(ele)\n",
    "\n",
    "print(\" Input List \" ,list1 )\n",
    "\n",
    "list2 = []\n",
    "\n",
    "for j in list1 :\n",
    "    if(j<0) :\n",
    "        continue\n",
    "    else :\n",
    "        list2.append(j)\n",
    "\n",
    "print(\" Output List \", list2)\n",
    "    \n",
    "    \n"
   ]
  },
  {
   "cell_type": "code",
   "execution_count": null,
   "metadata": {},
   "outputs": [],
   "source": []
  },
  {
   "cell_type": "code",
   "execution_count": null,
   "metadata": {},
   "outputs": [],
   "source": []
  }
 ],
 "metadata": {
  "kernelspec": {
   "display_name": "Python 3",
   "language": "python",
   "name": "python3"
  },
  "language_info": {
   "codemirror_mode": {
    "name": "ipython",
    "version": 3
   },
   "file_extension": ".py",
   "mimetype": "text/x-python",
   "name": "python",
   "nbconvert_exporter": "python",
   "pygments_lexer": "ipython3",
   "version": "3.7.6"
  }
 },
 "nbformat": 4,
 "nbformat_minor": 4
}
